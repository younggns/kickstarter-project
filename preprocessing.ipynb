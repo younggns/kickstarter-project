{
 "cells": [
  {
   "cell_type": "code",
   "execution_count": 1,
   "metadata": {},
   "outputs": [],
   "source": [
    "import pandas as pd\n",
    "import numpy as np"
   ]
  },
  {
   "cell_type": "code",
   "execution_count": 2,
   "metadata": {},
   "outputs": [],
   "source": [
    "import math"
   ]
  },
  {
   "cell_type": "code",
   "execution_count": 104,
   "metadata": {},
   "outputs": [],
   "source": [
    "%matplotlib inline\n",
    "import matplotlib.pyplot as plt"
   ]
  },
  {
   "cell_type": "code",
   "execution_count": 3,
   "metadata": {},
   "outputs": [],
   "source": [
    "df = pd.read_csv('data/ks-projects-201801.csv')"
   ]
  },
  {
   "cell_type": "code",
   "execution_count": 4,
   "metadata": {},
   "outputs": [],
   "source": [
    "df_copy = df.copy()"
   ]
  },
  {
   "cell_type": "code",
   "execution_count": 5,
   "metadata": {},
   "outputs": [
    {
     "name": "stdout",
     "output_type": "stream",
     "text": [
      "Removed 4 rows with no 'name' field\n"
     ]
    }
   ],
   "source": [
    "# If 'name' field is empty, drop the row\n",
    "index_to_remove = []\n",
    "for index, row in df_copy.iterrows():\n",
    "    if row['name'] != row['name']:\n",
    "        index_to_remove.append(index)\n",
    "print(\"Removed %d rows with no 'name' field\" %len(index_to_remove))\n",
    "df_copy = df_copy.drop(index_to_remove)"
   ]
  },
  {
   "cell_type": "code",
   "execution_count": null,
   "metadata": {},
   "outputs": [],
   "source": [
    "\"\"\"\n",
    "Attributes to use: \n",
    "    - name\n",
    "    - category\n",
    "    - main_category\n",
    "    - backers\n",
    "    - duration (deadline - launched)\n",
    "    - country\n",
    "    - usd_goal_real\n",
    "\n",
    "Objective:\n",
    "    - regress usd_pledged_real OR percentage (usd_pledged_real / usd_goal_real * 100)\n",
    "    - predict state (successful or not)\n",
    "\"\"\""
   ]
  },
  {
   "cell_type": "code",
   "execution_count": 6,
   "metadata": {},
   "outputs": [],
   "source": [
    "# Preprocess category, main_category, country\n",
    "def attr_encoding(df, attr_name):\n",
    "    encoded = []\n",
    "    unique_values = sorted(list(set(df[attr_name])))\n",
    "    for elem in df[attr_name]:\n",
    "        encoded.append(unique_values.index(elem))\n",
    "    return encoded\n",
    "\n",
    "category = attr_encoding(df_copy, 'category')\n",
    "main_category = attr_encoding(df_copy, 'main_category')\n",
    "country = attr_encoding(df_copy, 'country')"
   ]
  },
  {
   "cell_type": "code",
   "execution_count": 127,
   "metadata": {},
   "outputs": [
    {
     "data": {
      "image/png": "[encoded data removed]",
      "text/plain": [
       "<Figure size 432x288 with 1 Axes>"
      ]
     },
     "metadata": {
      "needs_background": "light"
     },
     "output_type": "display_data"
    }
   ],
   "source": [
    "cs = sorted(Counter(df_copy['country']).items(), key=lambda x:x[1], reverse=True)\n",
    "x = [key for key, val in cs]\n",
    "label = [val for key, val in cs]\n",
    "plt.bar(x, label)\n",
    "plt.show()"
   ]
  },
  {
   "cell_type": "code",
   "execution_count": 7,
   "metadata": {},
   "outputs": [],
   "source": [
    "\"\"\"\n",
    "num_backers: skewed distribution -> range of log scale count\n",
    "0: 55609\n",
    "1, 2: 58065\n",
    "3 ~ 7: 52998\n",
    "8 ~ 20: 53692\n",
    "21 ~ 47: 53213\n",
    "48 ~ 116: 52449\n",
    "117 ~ : 52635\n",
    "\"\"\"\n",
    "def encodeBackers(num_backers):\n",
    "    encode_dict = {0: [0], 1: [1, 2], 2: range(3, 8), 3: range(8, 21), 4: range(21, 48), 5: range(48, 117)}\n",
    "    encoded_backers = -1\n",
    "    for key, val in encode_dict.items():\n",
    "        if num_backers in val:\n",
    "            encoded_backers = key\n",
    "    if encoded_backers == -1:\n",
    "        encoded_backers = 6\n",
    "    return encoded_backers\n",
    "\n",
    "backers = []\n",
    "for elem in df_copy['backers']:\n",
    "    backers.append(encodeBackers(elem))"
   ]
  },
  {
   "cell_type": "code",
   "execution_count": 129,
   "metadata": {},
   "outputs": [],
   "source": [
    "from datetime import datetime\n",
    "\n",
    "duration = []\n",
    "duration_raw = []\n",
    "for start, end in zip(df_copy['launched'], df_copy['deadline']):\n",
    "    start_date = datetime.strptime(start, '%Y-%m-%d %H:%M:%S').date()\n",
    "    end_date = datetime.strptime(end, '%Y-%m-%d').date()\n",
    "    days = 0 if (end_date - start_date).days <= 30 else 1\n",
    "    duration.append(days)\n",
    "    duration_raw.append((end_date - start_date).days)"
   ]
  },
  {
   "cell_type": "code",
   "execution_count": 133,
   "metadata": {},
   "outputs": [
    {
     "data": {
      "text/plain": [
       "166361390.71"
      ]
     },
     "execution_count": 133,
     "metadata": {},
     "output_type": "execute_result"
    }
   ],
   "source": [
    "max(df_copy['usd_goal_real'])"
   ]
  },
  {
   "cell_type": "code",
   "execution_count": 10,
   "metadata": {},
   "outputs": [],
   "source": [
    "from collections import Counter"
   ]
  },
  {
   "cell_type": "code",
   "execution_count": 16,
   "metadata": {},
   "outputs": [],
   "source": [
    "def returnGoalEncodeDict(df):\n",
    "    sorted_ctr = sorted(Counter(df['usd_goal_real'].values.tolist()).items(), key=lambda x:x[0])\n",
    "    counter, range_threshold = 0, []\n",
    "    for key, val in sorted_ctr:\n",
    "        counter += val\n",
    "        if counter >= 5000 and key == int(key):\n",
    "            # print(int(key), counter)\n",
    "            range_threshold.append(int(key))\n",
    "            counter = 0\n",
    "            \n",
    "    encode_dict = {key: None for key in range(len(range_threshold))}\n",
    "    range_a, range_b = 0, 0\n",
    "    eps = 1e-6\n",
    "    for key in encode_dict.keys():\n",
    "        range_b = range_threshold[key]\n",
    "        encode_dict[key] = (range_a, range_b+eps)\n",
    "        range_a = range_b+eps\n",
    "        \n",
    "    return encode_dict\n",
    "\n",
    "def encodeGoal(goal_amount, encode_dict):\n",
    "    encoded_goal = -1\n",
    "    for key, val in encode_dict.items():\n",
    "        if goal_amount >= val[0] and goal_amount < val[1]:\n",
    "            encoded_goal = key\n",
    "    if encoded_goal == -1:\n",
    "        encoded_goal = len(encode_dict.keys())\n",
    "\n",
    "    return encoded_goal\n",
    "\n",
    "encode_dict = returnGoalEncodeDict(df_copy)\n",
    "\n",
    "goals, pledged = [], []\n",
    "for elem in df_copy['usd_goal_real']:\n",
    "    goals.append(encodeGoal(elem, encode_dict))\n",
    "for elem in df_copy['usd_pledged_real']:\n",
    "    pledged.append(encodeGoal(elem, encode_dict))"
   ]
  },
  {
   "cell_type": "code",
   "execution_count": 17,
   "metadata": {},
   "outputs": [],
   "source": [
    "states = []\n",
    "for pled, goal in zip(df_copy['usd_pledged_real'], df_copy['usd_goal_real']):\n",
    "    if pled >= goal:\n",
    "        states.append(1)\n",
    "    else:\n",
    "        states.append(0)"
   ]
  },
  {
   "cell_type": "code",
   "execution_count": 141,
   "metadata": {},
   "outputs": [
    {
     "data": {
      "image/png": "[encoded data removed]",
      "text/plain": [
       "<Figure size 432x288 with 1 Axes>"
      ]
     },
     "metadata": {
      "needs_background": "light"
     },
     "output_type": "display_data"
    }
   ],
   "source": [
    "cs = sorted(Counter(percentage).items(), key=lambda x:x[0], reverse=False)\n",
    "keydict = {0: '0%', 1: '1~10%', 2: '11~99%', 3: '100~120%', 4: '121%~'}\n",
    "x = [keydict[key] for key, val in cs]\n",
    "label = [val for key, val in cs]\n",
    "plt.bar(x, label)\n",
    "plt.show()"
   ]
  },
  {
   "cell_type": "code",
   "execution_count": 136,
   "metadata": {},
   "outputs": [],
   "source": [
    "def encodePercentage(p):\n",
    "    encode_dict = {0: [0], 1: range(1, 11), 2: range(11, 100), 3: range(100, 121)}\n",
    "    encoded_p = -1\n",
    "    for key, val in encode_dict.items():\n",
    "        if p in val:\n",
    "            encoded_p = key\n",
    "    if encoded_p == -1:\n",
    "        encoded_p = 4\n",
    "    return encoded_p\n",
    "\n",
    "percentage = []\n",
    "percentage_raw = []\n",
    "for pled, goal in zip(df_copy['usd_pledged_real'], df_copy['usd_goal_real']):\n",
    "    p = int(pled / goal * 100)\n",
    "    percentage_raw.append(p)\n",
    "    percentage.append(encodePercentage(p))"
   ]
  },
  {
   "cell_type": "code",
   "execution_count": 19,
   "metadata": {},
   "outputs": [],
   "source": [
    "assert len(duration) == len(category) == len(main_category) == len(country) == len(backers) == len(goals) == len(pledged) == len(states) == len(percentage)"
   ]
  },
  {
   "cell_type": "code",
   "execution_count": null,
   "metadata": {},
   "outputs": [],
   "source": [
    "\"\"\"\n",
    "<preproc>\n",
    "- remove (Canceled), (Suspended)\n",
    "- remove quotation in the beginning and at the end\n",
    "- remove quotation elongation\n",
    "\n",
    "- Num of words\n",
    "- Num of named entities\n",
    "- Use of quotation / elongation\n",
    "- Num of all capital words\n",
    "- Num of special characters (:, !, ?, #, etc.)\n",
    "\n",
    "- Glove word embedding + average\n",
    "- TF-IDF embedding?\n",
    "\"\"\""
   ]
  },
  {
   "cell_type": "code",
   "execution_count": 76,
   "metadata": {},
   "outputs": [],
   "source": [
    "def stringProc(s):\n",
    "    s = s.strip()\n",
    "    s = s.replace(\"(Canceled)\",\"\").replace(\"(Suspended)\",\"\")\n",
    "    s = s[1:] if s.startswith('\"') else s\n",
    "    s = s[:-1] if s.endswith('\"') else s\n",
    "    s = s.replace('\"\"\"\"','\"').replace('\"\"\"','\"').replace('\"\"','\"')\n",
    "    return s\n",
    "\n",
    "names = []\n",
    "for elem in df_copy['name']:    \n",
    "    names.append(stringProc(elem))"
   ]
  },
  {
   "cell_type": "code",
   "execution_count": 93,
   "metadata": {},
   "outputs": [],
   "source": [
    "import spacy\n",
    "nlp = spacy.load(\"en\")\n",
    "\n",
    "def stringEncoding(s):\n",
    "    doc = nlp(s)\n",
    "    \n",
    "    numWords = len(doc)\n",
    "    numEntities = len(doc.ents)\n",
    "    \n",
    "    numAllCap = 0\n",
    "    for tok in doc:\n",
    "        if tok.text == tok.text.upper():\n",
    "            numAllCap += 1\n",
    "    \n",
    "    useOfQuot = 1 if '\"' in doc.vocab else 0\n",
    "    useOfElong, numSpecialChar = 0, 0\n",
    "    \n",
    "    trimmed_tokens = []\n",
    "    for i, tok in enumerate(doc):\n",
    "        if tok.text == '\"':\n",
    "            continue       ## remove quotation marks\n",
    "            \n",
    "        if i != numWords-1 and tok.text == doc[i+1].text:\n",
    "            useOfElong = 1\n",
    "            if tok.text in \"`~!@#$%^&*()-_=+{}[]:;<>?/'\\|,.\":\n",
    "                numSpecialChar += 1\n",
    "            continue\n",
    "        else:\n",
    "            if tok.text in \"`~!@#$%^&*()-_=+{}[]:;<>?/'\\|,.\":\n",
    "                numSpecialChar += 1\n",
    "            else:\n",
    "                trimmed_tokens.append(tok.text)\n",
    "    \n",
    "    return numWords, numEntities, numAllCap, numSpecialChar, useOfQuot, useOfElong, trimmed_tokens"
   ]
  },
  {
   "cell_type": "code",
   "execution_count": 95,
   "metadata": {},
   "outputs": [],
   "source": [
    "import fasttext.util"
   ]
  },
  {
   "cell_type": "code",
   "execution_count": 96,
   "metadata": {},
   "outputs": [
    {
     "name": "stdout",
     "output_type": "stream",
     "text": [
      "Downloading https://dl.fbaipublicfiles.com/fasttext/vectors-crawl/cc.en.300.bin.gz\n"
     ]
    },
    {
     "name": "stdout",
     "output_type": "stream",
     "text": [
      " (1.44%) [>                                                  ]>                                                  ]>                                                  ]>                                                  ]>                                                  ]>                                                  ]>                                                  ]>                                                  ]>                                                  ]>                                                  ]>                                                  ]>                                                  ]>                                                  ]>                                                  ]>                                                  ]>                                                  ]>                                                  ]>                                                  ]>                                                  ]>                                                  ]>                                                  ]>                                                  ]>                                                  ]>                                                  ]                                                  ]>                                                  ]>                                                  ]>                                                  ]>                                                  ]>                                                  ]>                                                  ]>                                                  ]>                                                  ]>                                                  ]>                                                  ]>                                                  ]>                                                  ]>                                                  ]                                                  ]>                                                  ]>                                                  ]>                                                  ]>                                                  ]>                                                  ]>                                                  ]>                                                  ]>                                                  ]>                                                  ]>                                                  ]>                                                  ]>                                                  ]>                                                  ]>                                                  ]>                                                  ]>                                                  ]>                                                  ]>                                                  ]                                                  ]>                                                  ]>                                                  ]>                                                  ]>                                                  ]>                                                  ]>                                                  ]>                                                  ]>                                                  ]>                                                  ]>                                                  ]>                                                  ]]>                                                  ]>                                                  ]>                                                  ]>                                                  ]>                                                  ]>                                                  ]>                                                  ]>                                                  ]>                                                  ]>                                                  ]>                                                  ]>                                                  ]>                                                  ]>                                                  ]>                                                  ]>                                                  ]>                                                  ]>                                                  ]>                                                  ]>                                                  ]>                                                  ]>                                                  ]>                                                  ]>                                                  ]>                                                  ]>                                                  ]>                                                  ]>                                                  ]>                                                  ]>                                                  ]>                                                  ]>                                                  ]>                                                  ]>                                                  ]>                                                  ]>                                                  ]>                                                  ]>                                                  ]>                                                  ]>                                                  ]>                                                  ]>                                                  ]>                                                  ]>                                                  ]>                                                  ]>                                                  ]>                                                  ]>                                                  ]>                                                  ]>                                                  ]>                                                  ]>                                                  ]>                                                  ]>                                                  ]>                                                  ]>                                                  ]>                                                  ]>                                                  ]>                                                  ]>                                                  ]>                                                  ]>                                                  ]>                                                  ]>                                                  ]>                                                  ]>                                                  ]>                                                  ]>                                                  ]>                                                  ]>                                                  ]>                                                  ]>                                                  ]                                                  ]>                                                  ]>                                                  ]>                                                  ]>                                                  ]>                                                  ]                                                  ]>                                                  ]>                                                  ]>                                                  ]>                                                  ]>                                                  ]>                                                  ]>                                                  ]>                                                  ]>                                                  ]>                                                  ]\r"
     ]
    },
    {
     "name": "stdout",
     "output_type": "stream",
     "text": [
      " (4.47%) [==>                                                ]>                                                  ]>                                                  ]>                                                  ]>                                                  ]>                                                  ]>                                                  ]>                                                  ]>                                                  ]>                                                  ]                                                  ]>                                                  ]>                                                  ]>                                                  ]>                                                  ]>                                                  ]>                                                  ]>                                                  ]>                                                  ]>                                                  ]>                                                  ]]>                                                  ]>                                                  ]>                                                  ]>                                                 ]]=>                                                 ]=>                                                 ]=>                                                 ]=>                                                 ]=>                                                 ]>                                                 ]=>                                                 ]=>                                                 ]=>                                                 ]=>                                                 ]=>                                                 ]=>                                                 ]=>                                                 ]=>                                                 ]=>                                                 ]=>                                                 ]=>                                                 ]=>                                                 ]]=>                                                 ]=>                                                 ]=>                                                 ]=>                                                 ]                                                 ]=>                                                 ]=>                                                 ]=>                                                 ]=>                                                 ]=>                                                 ]=>                                                 ]=>                                                 ]=>                                                 ]=>                                                 ]>                                                 ]>                                                 ]=>                                                 ]>                                                 ]=>                                                 ]]=>                                                 ]=>                                                 ]=>                                                 ]                                                 ]=>                                                 ]=>                                                 ]=>                                                 ]=>                                                 ]=>                                                 ]=>                                                 ]>                                                 ]=>                                                 ]=>                                                 ]=>                                                 ]=>                                                 ]=>                                                 ]=>                                                 ]=>                                                 ]=>                                                 ]=>                                                 ]=>                                                 ]=>                                                 ]=>                                                 ]=>                                                 ]=>                                                 ]=>                                                 ]=>                                                 ]=>                                                 ]                                                 ]==>                                                ]==>                                                ]==>                                                ]==>                                                ]==>                                                ]==>                                                ]==>                                                ]==>                                                ]>                                                ]==>                                                ]==>                                                ]==>                                                ]]==>                                                ]==>                                                ]]==>                                                ]==>                                                ]==>                                                ]                                                ]==>                                                ]==>                                                ]==>                                                ]==>                                                ]==>                                                ]==>                                                ]==>                                                ]==>                                                ]==>                                                ]==>                                                ]==>                                                ]==>                                                ]==>                                                ]>                                                ]==>                                                ]==>                                                ]>                                                ]==>                                                ]==>                                                ]==>                                                ]>                                                ]==>                                                ]==>                                                ]==>                                                ]==>                                                ]==>                                                ]==>                                                ]==>                                                ]==>                                                ]==>                                                ]==>                                                ]                                                ]==>                                                ]==>                                                ]==>                                                ]==>                                                ]==>                                                ]>                                                ]==>                                                ]==>                                                ]==>                                                ]==>                                                ]==>                                                ]]==>                                                ]==>                                                ]==>                                                ]==>                                                ]>                                                ]==>                                                ]\r"
     ]
    },
    {
     "name": "stdout",
     "output_type": "stream",
     "text": [
      " (6.44%) [===>                                               ]==>                                                ]>                                                ]==>                                                ]==>                                                ]==>                                                ]]==>                                                ]==>                                                ]==>                                                ]==>                                                ]==>                                                ]==>                                                ]==>                                                ]>                                                ]==>                                                ]                                                ]==>                                                ]==>                                                ]==>                                                ]==>                                                ]==>                                                ]==>                                                ]==>                                                ]==>                                                ]==>                                                ]==>                                                ]==>                                                ]==>                                                ]==>                                                ]==>                                                ]==>                                                ]==>                                                ]==>                                                ]==>                                                ]==>                                                ]==>                                                ]==>                                                ]>                                                ]]==>                                                ]==>                                                ]==>                                                ]==>                                                ]==>                                                ]==>                                                ]==>                                                ]==>                                                ]==>                                                ]==>                                                ]==>                                                ]==>                                                ]==>                                                ]==>                                                ]==>                                                ]==>                                                ]==>                                                ]==>                                                ]==>                                                ]==>                                                ]>                                                ]==>                                                ]==>                                                ]==>                                                ]]==>                                                ]==>                                                ]==>                                                ]                                                ]==>                                                ]==>                                                ]==>                                                ]==>                                                ]]>                                                ]==>                                                ]==>                                                ]==>                                                ]]==>                                                ]==>                                                ]==>                                                ]==>                                                ]==>                                                ]==>                                                ]==>                                                ]                                                ]==>                                                ]==>                                                ]==>                                                ]==>                                                ]                                                ]==>                                                ]==>                                                ]==>                                                ]==>                                                ]==>                                                ]==>                                                ]==>                                                ]>                                                ]==>                                                ]==>                                                ]==>                                                ]==>                                                ]==>                                                ]==>                                                ]==>                                                ]==>                                                ]==>                                                ]==>                                                ]===>                                               ]===>                                               ]===>                                               ]===>                                               ]===>                                               ]===>                                               ]===>                                               ]===>                                               ]===>                                               ]===>                                               ]===>                                               ]===>                                               ]]                                               ]===>                                               ]===>                                               ]                                               ]===>                                               ]===>                                               ]                                               ]===>                                               ]===>                                               ]===>                                               ]===>                                               ]===>                                               ]===>                                               ]===>                                               ]===>                                               ]===>                                               ]===>                                               ]===>                                               ]===>                                               ]===>                                               ]===>                                               ]===>                                               ]===>                                               ]                                               ]===>                                               ]===>                                               ]===>                                               ]===>                                               ]===>                                               ]===>                                               ]===>                                               ]===>                                               ]]                                               ]===>                                               ]>                                               ]===>                                               ]===>                                               ]===>                                               ]===>                                               ]===>                                               ]===>                                               ]===>                                               ]\r"
     ]
    },
    {
     "name": "stdout",
     "output_type": "stream",
     "text": [
      " (9.16%) [====>                                              ]===>                                               ]===>                                               ]===>                                               ]===>                                               ]===>                                               ]>                                               ]===>                                               ]===>                                               ]>                                               ]===>                                               ]===>                                               ]===>                                               ]===>                                               ]===>                                               ]                                               ]===>                                               ]===>                                               ]===>                                               ]===>                                               ]===>                                               ]===>                                               ]===>                                               ]]===>                                               ]]===>                                               ]===>                                               ]===>                                               ]                                               ]===>                                               ]===>                                               ]===>                                               ]===>                                               ]===>                                               ]                                               ]===>                                               ]===>                                               ]===>                                               ]===>                                               ]                                               ]                                               ]===>                                               ]===>                                               ]===>                                               ]===>                                               ]===>                                               ]===>                                               ]===>                                               ]===>                                               ]===>                                               ]===>                                               ]===>                                               ]===>                                               ]===>                                               ]===>                                               ]===>                                               ]===>                                               ]===>                                               ]===>                                               ]===>                                               ]===>                                               ]===>                                               ]===>                                               ]===>                                               ]===>                                               ]===>                                               ]===>                                               ]===>                                               ]===>                                               ]===>                                               ]===>                                               ]>                                               ]===>                                               ]===>                                               ]===>                                               ]===>                                               ]===>                                               ]===>                                               ]===>                                               ]===>                                               ]===>                                               ]===>                                               ]]====>                                              ]====>                                              ]====>                                              ]====>                                              ]>                                              ]====>                                              ]====>                                              ]====>                                              ]====>                                              ]====>                                              ]                                              ]====>                                              ]====>                                              ]====>                                              ]>                                              ]>                                              ]====>                                              ]====>                                              ]====>                                              ]====>                                              ]====>                                              ]====>                                              ]====>                                              ]====>                                              ]====>                                              ]>                                              ]                                              ]====>                                              ]====>                                              ]====>                                              ]====>                                              ]====>                                              ]====>                                              ]====>                                              ]====>                                              ]====>                                              ]====>                                              ]====>                                              ]====>                                              ]>                                              ]====>                                              ]====>                                              ]====>                                              ]====>                                              ]====>                                              ]====>                                              ]====>                                              ]====>                                              ]====>                                              ]====>                                              ]====>                                              ]====>                                              ]====>                                              ]====>                                              ]====>                                              ]]====>                                              ]====>                                              ]====>                                              ]====>                                              ]====>                                              ]====>                                              ]====>                                              ]====>                                              ]====>                                              ]====>                                              ]====>                                              ]====>                                              ]====>                                              ]====>                                              ]====>                                              ]====>                                              ]====>                                              ]>                                              ]>                                              ]                                              ]====>                                              ]====>                                              ]====>                                              ]\r"
     ]
    },
    {
     "name": "stdout",
     "output_type": "stream",
     "text": [
      " (9.67%) [====>                                              ]                                              ]>                                              ]====>                                              ]====>                                              ]====>                                              ]====>                                              ]====>                                              ]====>                                              ]====>                                              ]>                                              ]====>                                              ]====>                                              ]>                                              ]====>                                              ]====>                                              ]====>                                              ]====>                                              ]====>                                              ]====>                                              ]====>                                              ]>                                              ]====>                                              ]====>                                              ]====>                                              ]====>                                              ]====>                                              ]====>                                              ]====>                                              ]====>                                              ]====>                                              ]====>                                              ]====>                                              ]====>                                              ]>                                              ]====>                                              ]====>                                              ]====>                                              ]====>                                              ]====>                                              ]====>                                              ]====>                                              ]>                                              ]>                                              ]====>                                              ]====>                                              ]====>                                              ]>                                              ]====>                                              ]====>                                              ]====>                                              ]====>                                              ]====>                                              ]====>                                              ]====>                                              ]====>                                              ]====>                                              ]====>                                              ]====>                                              ]>                                              ]====>                                              ]====>                                              ]                                              ]====>                                              ]====>                                              ]====>                                              ]====>                                              ]====>                                              ]====>                                              ]====>                                              ]====>                                              ]====>                                              ]====>                                              ]====>                                              ]                                              ]====>                                              ]====>                                              ]====>                                              ]====>                                              ]====>                                              ]                                              ]====>                                              ]>                                              ]====>                                              ]====>                                              ]====>                                              ]====>                                              ]====>                                              ]====>                                              ]====>                                              ]====>                                              ]====>                                              ]====>                                              ]====>                                              ]====>                                              ]====>                                              ]====>                                              ]====>                                              ]====>                                              ]>                                              ]====>                                              ]====>                                              ]====>                                              ]====>                                              ]====>                                              ]====>                                              ]====>                                              ]====>                                              ]====>                                              ]====>                                              ]>                                              ]====>                                              ]                                              ]====>                                              ]====>                                              ]>                                              ]====>                                              ]====>                                              ]====>                                              ]====>                                              ]====>                                              ]====>                                              ]                                              ]====>                                              ]====>                                              ]====>                                              ]>                                              ]====>                                              ]====>                                              ]                                              ]====>                                              ]>                                              ]====>                                              ]====>                                              ]====>                                              ]>                                              ]====>                                              ]>                                              ]>                                              ]====>                                              ]====>                                              ]====>                                              ]====>                                              ]====>                                              ]====>                                              ]====>                                              ]                                              ]====>                                              ]====>                                              ]====>                                              ]                                              ]====>                                              ]====>                                              ]====>                                              ]====>                                              ]====>                                              ]====>                                              ]>                                              ]====>                                              ]====>                                              ]\r"
     ]
    },
    {
     "name": "stdout",
     "output_type": "stream",
     "text": [
      " (12.34%) [======>                                            ]===>                                              ]====>                                              ]====>                                              ]====>                                              ]====>                                              ]====>                                              ]====>                                              ]====>                                              ]====>                                              ]====>                                              ]====>                                              ]====>                                              ]====>                                              ]====>                                              ]====>                                              ]====>                                              ]====>                                              ]====>                                              ]====>                                              ]====>                                              ]====>                                              ]====>                                              ]====>                                              ]====>                                              ]====>                                              ]====>                                              ]====>                                              ]====>                                              ]====>                                              ]====>                                              ]====>                                              ]]====>                                              ]====>                                              ]====>                                              ]====>                                              ]                                              ]====>                                              ]====>                                              ]====>                                              ]====>                                              ]====>                                              ]>                                              ]====>                                              ]====>                                              ]====>                                              ]====>                                              ]====>                                              ]====>                                              ]====>                                              ]>                                              ]====>                                              ]====>                                              ]>                                              ]====>                                              ]====>                                              ]====>                                              ]====>                                              ]====>                                              ]====>                                              ]====>                                              ]====>                                              ]====>                                              ]====>                                              ]====>                                              ]====>                                              ]====>                                              ]====>                                              ]====>                                              ]====>                                              ]====>                                              ]====>                                              ]>                                              ]====>                                              ]====>                                              ]====>                                              ]====>                                              ]                                              ]====>                                              ]====>                                              ]====>                                              ]====>                                              ]====>                                              ]====>                                              ]====>                                              ]====>                                              ]====>                                              ]====>                                              ]====>                                              ]====>                                              ]====>                                              ]====>                                              ]====>                                              ]====>                                              ]====>                                              ]====>                                              ]====>                                              ]=====>                                             ]=====>                                             ]=====>                                             ]=====>                                             ]=====>                                             ]=====>                                             ]=====>                                             ]=====>                                             ]=====>                                             ]=====>                                             ]=====>                                             ]=====>                                             ]=====>                                             ]]=====>                                             ]>                                             ]]=====>                                             ]=====>                                             ]                                             ]=====>                                             ]=====>                                             ]=====>                                             ]                                             ]=====>                                             ]=====>                                             ]=====>                                             ]>                                             ]=====>                                             ]=====>                                             ]]=====>                                             ]=====>                                             ]=====>                                             ]=====>                                             ]=====>                                             ]>                                             ]=====>                                             ]>                                             ]>                                             ]=====>                                             ]=====>                                             ]=====>                                             ]>                                             ]                                             ]>                                             ]=====>                                             ]=====>                                             ]=====>                                             ]=====>                                             ]                                             ]                                             ]                                             ]]>                                             ]>                                            ]======>                                            ]======>                                            ]>                                            ]\r"
     ]
    },
    {
     "ename": "EOFError",
     "evalue": "Compressed file ended before the end-of-stream marker was reached",
     "output_type": "error",
     "traceback": [
      "\u001b[0;31m---------------------------------------------------------------------------\u001b[0m",
      "\u001b[0;31mEOFError\u001b[0m                                  Traceback (most recent call last)",
      "\u001b[0;32m<ipython-input-96-4a3627d1d35f>\u001b[0m in \u001b[0;36m<module>\u001b[0;34m\u001b[0m\n\u001b[0;32m----> 1\u001b[0;31m \u001b[0mfasttext\u001b[0m\u001b[0;34m.\u001b[0m\u001b[0mutil\u001b[0m\u001b[0;34m.\u001b[0m\u001b[0mdownload_model\u001b[0m\u001b[0;34m(\u001b[0m\u001b[0;34m'en'\u001b[0m\u001b[0;34m,\u001b[0m \u001b[0mif_exists\u001b[0m\u001b[0;34m=\u001b[0m\u001b[0;34m'ignore'\u001b[0m\u001b[0;34m)\u001b[0m\u001b[0;34m\u001b[0m\u001b[0;34m\u001b[0m\u001b[0m\n\u001b[0m",
      "\u001b[0;32m~/opt/anaconda3/envs/dev/lib/python3.6/site-packages/fasttext/util/util.py\u001b[0m in \u001b[0;36mdownload_model\u001b[0;34m(lang_id, if_exists, dimension)\u001b[0m\n\u001b[1;32m    205\u001b[0m         \u001b[0;32mwith\u001b[0m \u001b[0mgzip\u001b[0m\u001b[0;34m.\u001b[0m\u001b[0mopen\u001b[0m\u001b[0;34m(\u001b[0m\u001b[0mgz_file_name\u001b[0m\u001b[0;34m,\u001b[0m \u001b[0;34m'rb'\u001b[0m\u001b[0;34m)\u001b[0m \u001b[0;32mas\u001b[0m \u001b[0mf\u001b[0m\u001b[0;34m:\u001b[0m\u001b[0;34m\u001b[0m\u001b[0;34m\u001b[0m\u001b[0m\n\u001b[1;32m    206\u001b[0m             \u001b[0;32mwith\u001b[0m \u001b[0mopen\u001b[0m\u001b[0;34m(\u001b[0m\u001b[0mfile_name\u001b[0m\u001b[0;34m,\u001b[0m \u001b[0;34m'wb'\u001b[0m\u001b[0;34m)\u001b[0m \u001b[0;32mas\u001b[0m \u001b[0mf_out\u001b[0m\u001b[0;34m:\u001b[0m\u001b[0;34m\u001b[0m\u001b[0;34m\u001b[0m\u001b[0m\n\u001b[0;32m--> 207\u001b[0;31m                 \u001b[0mshutil\u001b[0m\u001b[0;34m.\u001b[0m\u001b[0mcopyfileobj\u001b[0m\u001b[0;34m(\u001b[0m\u001b[0mf\u001b[0m\u001b[0;34m,\u001b[0m \u001b[0mf_out\u001b[0m\u001b[0;34m)\u001b[0m\u001b[0;34m\u001b[0m\u001b[0;34m\u001b[0m\u001b[0m\n\u001b[0m\u001b[1;32m    208\u001b[0m \u001b[0;34m\u001b[0m\u001b[0m\n\u001b[1;32m    209\u001b[0m     \u001b[0;32mreturn\u001b[0m \u001b[0mfile_name\u001b[0m\u001b[0;34m\u001b[0m\u001b[0;34m\u001b[0m\u001b[0m\n",
      "\u001b[0;32m~/opt/anaconda3/envs/dev/lib/python3.6/shutil.py\u001b[0m in \u001b[0;36mcopyfileobj\u001b[0;34m(fsrc, fdst, length)\u001b[0m\n\u001b[1;32m     77\u001b[0m     \u001b[0;34m\"\"\"copy data from file-like object fsrc to file-like object fdst\"\"\"\u001b[0m\u001b[0;34m\u001b[0m\u001b[0;34m\u001b[0m\u001b[0m\n\u001b[1;32m     78\u001b[0m     \u001b[0;32mwhile\u001b[0m \u001b[0;36m1\u001b[0m\u001b[0;34m:\u001b[0m\u001b[0;34m\u001b[0m\u001b[0;34m\u001b[0m\u001b[0m\n\u001b[0;32m---> 79\u001b[0;31m         \u001b[0mbuf\u001b[0m \u001b[0;34m=\u001b[0m \u001b[0mfsrc\u001b[0m\u001b[0;34m.\u001b[0m\u001b[0mread\u001b[0m\u001b[0;34m(\u001b[0m\u001b[0mlength\u001b[0m\u001b[0;34m)\u001b[0m\u001b[0;34m\u001b[0m\u001b[0;34m\u001b[0m\u001b[0m\n\u001b[0m\u001b[1;32m     80\u001b[0m         \u001b[0;32mif\u001b[0m \u001b[0;32mnot\u001b[0m \u001b[0mbuf\u001b[0m\u001b[0;34m:\u001b[0m\u001b[0;34m\u001b[0m\u001b[0;34m\u001b[0m\u001b[0m\n\u001b[1;32m     81\u001b[0m             \u001b[0;32mbreak\u001b[0m\u001b[0;34m\u001b[0m\u001b[0;34m\u001b[0m\u001b[0m\n",
      "\u001b[0;32m~/opt/anaconda3/envs/dev/lib/python3.6/gzip.py\u001b[0m in \u001b[0;36mread\u001b[0;34m(self, size)\u001b[0m\n\u001b[1;32m    274\u001b[0m             \u001b[0;32mimport\u001b[0m \u001b[0merrno\u001b[0m\u001b[0;34m\u001b[0m\u001b[0;34m\u001b[0m\u001b[0m\n\u001b[1;32m    275\u001b[0m             \u001b[0;32mraise\u001b[0m \u001b[0mOSError\u001b[0m\u001b[0;34m(\u001b[0m\u001b[0merrno\u001b[0m\u001b[0;34m.\u001b[0m\u001b[0mEBADF\u001b[0m\u001b[0;34m,\u001b[0m \u001b[0;34m\"read() on write-only GzipFile object\"\u001b[0m\u001b[0;34m)\u001b[0m\u001b[0;34m\u001b[0m\u001b[0;34m\u001b[0m\u001b[0m\n\u001b[0;32m--> 276\u001b[0;31m         \u001b[0;32mreturn\u001b[0m \u001b[0mself\u001b[0m\u001b[0;34m.\u001b[0m\u001b[0m_buffer\u001b[0m\u001b[0;34m.\u001b[0m\u001b[0mread\u001b[0m\u001b[0;34m(\u001b[0m\u001b[0msize\u001b[0m\u001b[0;34m)\u001b[0m\u001b[0;34m\u001b[0m\u001b[0;34m\u001b[0m\u001b[0m\n\u001b[0m\u001b[1;32m    277\u001b[0m \u001b[0;34m\u001b[0m\u001b[0m\n\u001b[1;32m    278\u001b[0m     \u001b[0;32mdef\u001b[0m \u001b[0mread1\u001b[0m\u001b[0;34m(\u001b[0m\u001b[0mself\u001b[0m\u001b[0;34m,\u001b[0m \u001b[0msize\u001b[0m\u001b[0;34m=\u001b[0m\u001b[0;34m-\u001b[0m\u001b[0;36m1\u001b[0m\u001b[0;34m)\u001b[0m\u001b[0;34m:\u001b[0m\u001b[0;34m\u001b[0m\u001b[0;34m\u001b[0m\u001b[0m\n",
      "\u001b[0;32m~/opt/anaconda3/envs/dev/lib/python3.6/_compression.py\u001b[0m in \u001b[0;36mreadinto\u001b[0;34m(self, b)\u001b[0m\n\u001b[1;32m     66\u001b[0m     \u001b[0;32mdef\u001b[0m \u001b[0mreadinto\u001b[0m\u001b[0;34m(\u001b[0m\u001b[0mself\u001b[0m\u001b[0;34m,\u001b[0m \u001b[0mb\u001b[0m\u001b[0;34m)\u001b[0m\u001b[0;34m:\u001b[0m\u001b[0;34m\u001b[0m\u001b[0;34m\u001b[0m\u001b[0m\n\u001b[1;32m     67\u001b[0m         \u001b[0;32mwith\u001b[0m \u001b[0mmemoryview\u001b[0m\u001b[0;34m(\u001b[0m\u001b[0mb\u001b[0m\u001b[0;34m)\u001b[0m \u001b[0;32mas\u001b[0m \u001b[0mview\u001b[0m\u001b[0;34m,\u001b[0m \u001b[0mview\u001b[0m\u001b[0;34m.\u001b[0m\u001b[0mcast\u001b[0m\u001b[0;34m(\u001b[0m\u001b[0;34m\"B\"\u001b[0m\u001b[0;34m)\u001b[0m \u001b[0;32mas\u001b[0m \u001b[0mbyte_view\u001b[0m\u001b[0;34m:\u001b[0m\u001b[0;34m\u001b[0m\u001b[0;34m\u001b[0m\u001b[0m\n\u001b[0;32m---> 68\u001b[0;31m             \u001b[0mdata\u001b[0m \u001b[0;34m=\u001b[0m \u001b[0mself\u001b[0m\u001b[0;34m.\u001b[0m\u001b[0mread\u001b[0m\u001b[0;34m(\u001b[0m\u001b[0mlen\u001b[0m\u001b[0;34m(\u001b[0m\u001b[0mbyte_view\u001b[0m\u001b[0;34m)\u001b[0m\u001b[0;34m)\u001b[0m\u001b[0;34m\u001b[0m\u001b[0;34m\u001b[0m\u001b[0m\n\u001b[0m\u001b[1;32m     69\u001b[0m             \u001b[0mbyte_view\u001b[0m\u001b[0;34m[\u001b[0m\u001b[0;34m:\u001b[0m\u001b[0mlen\u001b[0m\u001b[0;34m(\u001b[0m\u001b[0mdata\u001b[0m\u001b[0;34m)\u001b[0m\u001b[0;34m]\u001b[0m \u001b[0;34m=\u001b[0m \u001b[0mdata\u001b[0m\u001b[0;34m\u001b[0m\u001b[0;34m\u001b[0m\u001b[0m\n\u001b[1;32m     70\u001b[0m         \u001b[0;32mreturn\u001b[0m \u001b[0mlen\u001b[0m\u001b[0;34m(\u001b[0m\u001b[0mdata\u001b[0m\u001b[0;34m)\u001b[0m\u001b[0;34m\u001b[0m\u001b[0;34m\u001b[0m\u001b[0m\n",
      "\u001b[0;32m~/opt/anaconda3/envs/dev/lib/python3.6/gzip.py\u001b[0m in \u001b[0;36mread\u001b[0;34m(self, size)\u001b[0m\n\u001b[1;32m    480\u001b[0m                 \u001b[0;32mbreak\u001b[0m\u001b[0;34m\u001b[0m\u001b[0;34m\u001b[0m\u001b[0m\n\u001b[1;32m    481\u001b[0m             \u001b[0;32mif\u001b[0m \u001b[0mbuf\u001b[0m \u001b[0;34m==\u001b[0m \u001b[0;34mb\"\"\u001b[0m\u001b[0;34m:\u001b[0m\u001b[0;34m\u001b[0m\u001b[0;34m\u001b[0m\u001b[0m\n\u001b[0;32m--> 482\u001b[0;31m                 raise EOFError(\"Compressed file ended before the \"\n\u001b[0m\u001b[1;32m    483\u001b[0m                                \"end-of-stream marker was reached\")\n\u001b[1;32m    484\u001b[0m \u001b[0;34m\u001b[0m\u001b[0m\n",
      "\u001b[0;31mEOFError\u001b[0m: Compressed file ended before the end-of-stream marker was reached"
     ]
    }
   ],
   "source": [
    "fasttext.util.download_model('en', if_exists='ignore')"
   ]
  },
  {
   "cell_type": "code",
   "execution_count": null,
   "metadata": {},
   "outputs": [],
   "source": [
    "ft = fasttext.load_model('cc.en.300.bin')"
   ]
  },
  {
   "cell_type": "code",
   "execution_count": null,
   "metadata": {},
   "outputs": [],
   "source": []
  },
  {
   "cell_type": "code",
   "execution_count": null,
   "metadata": {},
   "outputs": [],
   "source": [
    "numWords, numEntities, numAllCap, numSpecialChar, useOfQuot, useOfElong = [], [], [], [], [], []\n",
    "for elem in names:\n",
    "    nw, ne, na, ns, uq, ue, tok = stringEncoding(elem)\n",
    "    numWords.append(nw)\n",
    "    numEntities.append(ne)\n",
    "    numAllCap.append(na)\n",
    "    numSpecialChar.append(ns)\n",
    "    useOfQuot.append(uq)\n",
    "    useOfElong.append(ue)"
   ]
  },
  {
   "cell_type": "code",
   "execution_count": 91,
   "metadata": {},
   "outputs": [
    {
     "name": "stdout",
     "output_type": "stream",
     "text": [
      "iCare\n",
      "FHD\n",
      ":\n",
      "World\n",
      "'s\n",
      "First\n",
      "Urgent\n",
      "Home\n",
      "Care\n",
      "Camera\n"
     ]
    }
   ],
   "source": [
    "c = \"iCare FHD: World's First Urgent Home Care Camera\"\n",
    "doc2 = nlp(c)\n",
    "for tok in doc2:\n",
    "    print(tok)"
   ]
  },
  {
   "cell_type": "code",
   "execution_count": 92,
   "metadata": {},
   "outputs": [
    {
     "data": {
      "text/plain": [
       "False"
      ]
     },
     "execution_count": 92,
     "metadata": {},
     "output_type": "execute_result"
    }
   ],
   "source": [
    "\"'s\" in \"`~!@#$%^&*()-_=+{}[]:;<>?/'\\|,.\""
   ]
  },
  {
   "cell_type": "code",
   "execution_count": 53,
   "metadata": {},
   "outputs": [],
   "source": [
    "a = 'LEDIONIX #ONE - Linear T8 LED-Light - \"One for all!!!\"'\n",
    "b = '1yrBeer - Discovering Craft Beer Culture in Colorado,Documentary'"
   ]
  },
  {
   "cell_type": "code",
   "execution_count": 52,
   "metadata": {},
   "outputs": [
    {
     "data": {
      "text/plain": [
       "True"
      ]
     },
     "execution_count": 52,
     "metadata": {},
     "output_type": "execute_result"
    }
   ],
   "source": [
    "\"Linear\".isalpha()"
   ]
  },
  {
   "cell_type": "code",
   "execution_count": 55,
   "metadata": {},
   "outputs": [
    {
     "name": "stdout",
     "output_type": "stream",
     "text": [
      "18\n",
      "LEDIONIX\n",
      "#\n",
      "ONE\n",
      "-\n",
      "Linear\n",
      "T8\n",
      "LED\n",
      "-\n",
      "Light\n",
      "-\n",
      "\"\n",
      "One\n",
      "for\n",
      "all\n",
      "!\n",
      "!\n",
      "!\n",
      "\"\n"
     ]
    }
   ],
   "source": [
    "doc = nlp(a)\n",
    "print(len(doc))\n",
    "for tok in doc:\n",
    "    print(tok)"
   ]
  },
  {
   "cell_type": "code",
   "execution_count": 63,
   "metadata": {},
   "outputs": [
    {
     "data": {
      "text/plain": [
       "spacy.tokens.doc.Doc"
      ]
     },
     "execution_count": 63,
     "metadata": {},
     "output_type": "execute_result"
    }
   ],
   "source": [
    "type(doc)"
   ]
  },
  {
   "cell_type": "code",
   "execution_count": 61,
   "metadata": {},
   "outputs": [
    {
     "name": "stdout",
     "output_type": "stream",
     "text": [
      "LEDIONIX #\n",
      "# ONE\n",
      "ONE -\n",
      "- Linear\n",
      "Linear T8\n",
      "T8 LED\n",
      "LED -\n",
      "- Light\n",
      "Light -\n",
      "- \"\n",
      "\" One\n",
      "One for\n",
      "for all\n",
      "all !\n",
      "! !\n",
      "! !\n",
      "! \"\n",
      "here \"\n",
      "[LEDIONIX, #, ONE, -, Linear, T8, LED, -, Light, -, \", One, for, all, !, \"]\n"
     ]
    }
   ],
   "source": [
    "doc = nlp(a)\n",
    "tok_len = len(doc)\n",
    "remove_elong = []\n",
    "for i, tok in enumerate(doc):\n",
    "    if i == tok_len-1:\n",
    "        print(\"here\", tok)\n",
    "        remove_elong.append(tok)\n",
    "    else:\n",
    "        print(tok, doc[i+1])\n",
    "        if tok.text == doc[i+1].text:\n",
    "            continue\n",
    "        else:\n",
    "            remove_elong.append(tok)\n",
    "print(remove_elong)"
   ]
  },
  {
   "cell_type": "code",
   "execution_count": null,
   "metadata": {},
   "outputs": [],
   "source": [
    "num_words = []\n",
    "for elem in names:"
   ]
  },
  {
   "cell_type": "code",
   "execution_count": null,
   "metadata": {},
   "outputs": [],
   "source": []
  },
  {
   "cell_type": "code",
   "execution_count": null,
   "metadata": {},
   "outputs": [],
   "source": []
  },
  {
   "cell_type": "code",
   "execution_count": null,
   "metadata": {},
   "outputs": [],
   "source": []
  },
  {
   "cell_type": "code",
   "execution_count": null,
   "metadata": {},
   "outputs": [],
   "source": []
  },
  {
   "cell_type": "code",
   "execution_count": null,
   "metadata": {},
   "outputs": [],
   "source": []
  },
  {
   "cell_type": "code",
   "execution_count": 243,
   "metadata": {},
   "outputs": [
    {
     "data": {
      "text/plain": [
       "{'canceled', 'failed', 'live', 'successful', 'suspended', 'undefined'}"
      ]
     },
     "execution_count": 243,
     "metadata": {},
     "output_type": "execute_result"
    }
   ],
   "source": [
    "set(df['state'].values.tolist())"
   ]
  },
  {
   "cell_type": "code",
   "execution_count": 246,
   "metadata": {},
   "outputs": [
    {
     "name": "stdout",
     "output_type": "stream",
     "text": [
      "[1000002330 'The Songs of Adelaide & Abullah' 'Poetry' 'Publishing' 'GBP'\n",
      " '2015-10-09' 1000.0 '2015-08-11 12:12:28' 0.0 'failed' 0 'GB' 0.0 0.0\n",
      " 1533.95]\n"
     ]
    }
   ],
   "source": [
    "for row in df.values:\n",
    "    print(row)\n",
    "    break"
   ]
  },
  {
   "cell_type": "code",
   "execution_count": 248,
   "metadata": {},
   "outputs": [
    {
     "name": "stdout",
     "output_type": "stream",
     "text": [
      "canceled pledged count: 698 out of 38779\n",
      "failed pledged count: 6 out of 197719\n",
      "live pledged count: 441 out of 2799\n",
      "successful pledged count: 133951 out of 133956\n",
      "suspended pledged count: 292 out of 1846\n",
      "undefined pledged count: 1654 out of 3562\n"
     ]
    }
   ],
   "source": [
    "cnt = 0\n",
    "for elem in df[df['state']=='canceled'].values:\n",
    "    if elem[-2] >= elem[-1]:\n",
    "        cnt += 1\n",
    "print(\"canceled pledged count: %d out of %d\" %(cnt, len(df[df['state']=='canceled'])))\n",
    "\n",
    "cnt = 0\n",
    "for elem in df[df['state']=='failed'].values:\n",
    "    if elem[-2] >= elem[-1]:\n",
    "        cnt += 1\n",
    "print(\"failed pledged count: %d out of %d\" %(cnt, len(df[df['state']=='failed'])))\n",
    "\n",
    "cnt = 0\n",
    "for elem in df[df['state']=='live'].values:\n",
    "    if elem[-2] >= elem[-1]:\n",
    "        cnt += 1\n",
    "print(\"live pledged count: %d out of %d\" %(cnt, len(df[df['state']=='live'])))\n",
    "\n",
    "cnt = 0\n",
    "for elem in df[df['state']=='successful'].values:\n",
    "    if elem[-2] >= elem[-1]:\n",
    "        cnt += 1\n",
    "print(\"successful pledged count: %d out of %d\" %(cnt, len(df[df['state']=='successful'])))\n",
    "\n",
    "cnt = 0\n",
    "for elem in df[df['state']=='suspended'].values:\n",
    "    if elem[-2] >= elem[-1]:\n",
    "        cnt += 1\n",
    "print(\"suspended pledged count: %d out of %d\" %(cnt, len(df[df['state']=='suspended'])))\n",
    "\n",
    "cnt = 0\n",
    "for elem in df[df['state']=='undefined'].values:\n",
    "    if elem[-2] >= elem[-1]:\n",
    "        cnt += 1\n",
    "print(\"undefined pledged count: %d out of %d\" %(cnt, len(df[df['state']=='undefined'])))"
   ]
  },
  {
   "cell_type": "code",
   "execution_count": null,
   "metadata": {},
   "outputs": [],
   "source": [
    "from spacy.tokens import Doc\n",
    "from spacy.attrs import LOWER, POS, ENT_TYPE, IS_ALPHA\n",
    "def removeElongToken(doc):\n",
    "    idx = []\n",
    "    for i, tok in enumerate(doc):\n",
    "        if i != tok_len-1 and tok.text == doc[i+1].text:\n",
    "            idx.append(i)\n",
    "    np_array = doc.to_array([LOWER, POS, ENT_TYPE, IS_ALPHA])\n",
    "    doc2 = Doc(doc.vocab, words=[t.text for i, t in enumerate(doc) if i not in idx])\n",
    "    doc2.from_array([LOWER, POS, ENT_TYPE, IS_ALPHA], np_array)\n",
    "    return doc2"
   ]
  },
  {
   "cell_type": "code",
   "execution_count": null,
   "metadata": {},
   "outputs": [],
   "source": [
    "\n",
    "import re\n",
    "regex = re.compile(r'(.)\\1{2}')"
   ]
  }
 ],
 "metadata": {
  "kernelspec": {
   "display_name": "Python 3",
   "language": "python",
   "name": "python3"
  },
  "language_info": {
   "codemirror_mode": {
    "name": "ipython",
    "version": 3
   },
   "file_extension": ".py",
   "mimetype": "text/x-python",
   "name": "python",
   "nbconvert_exporter": "python",
   "pygments_lexer": "ipython3",
   "version": "3.6.10"
  }
 },
 "nbformat": 4,
 "nbformat_minor": 4
}
